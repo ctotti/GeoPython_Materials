{
 "cells": [
  {
   "cell_type": "markdown",
   "id": "739a1ab7",
   "metadata": {},
   "source": [
    "# Links\n",
    "\n",
    "- https://geographicdata.science/book/intro.html   - This book provides the tools, the methods, and the theory to meet the challenges of contemporary data science applied to geographic problems and data\n",
    "- https://www.lfd.uci.edu/~gohlke/pythonlibs/ - Unofficial Windows Binaries for Python Extension Packages. Useful for installing geopandas manually along with it's dependencies (GDAL, FIONA, Shapely, pyproj...)."
   ]
  },
  {
   "cell_type": "markdown",
   "id": "1e661a76",
   "metadata": {},
   "source": [
    "# Packages\n",
    "- geopandas  - extends the datatypes used by pandas to allow spatial operations on geometric types. Documentation: https://github.com/geopandas/geopandas\n",
    "- geobr      - download official spatial data sets of Brazil. Documentation: https://github.com/ipeaGIT/geobr\n",
    "- rabpro     - delineate watershed basins and compute attribute statistics using Google Earth Engine. Documentation: https://github.com/VeinsOfTheEarth/rabpro\n",
    "- tifffile   - store numpy arrays in TIFF (Tagged Image File Format) files and read image and metadata from TIFF-like files used in bioimaging. Documentation: https://github.com/cgohlke/tifffile\n",
    "- folium     - builds on the data wrangling strengths of the Python ecosystem and the mapping strengths of the Leaflet.js library. Manipulate your data in Python, then visualize it in a Leaflet map via folium. Documentation: https://github.com/python-visualization/folium\n"
   ]
  }
 ],
 "metadata": {
  "kernelspec": {
   "display_name": "Python 3 (ipykernel)",
   "language": "python",
   "name": "python3"
  },
  "language_info": {
   "codemirror_mode": {
    "name": "ipython",
    "version": 3
   },
   "file_extension": ".py",
   "mimetype": "text/x-python",
   "name": "python",
   "nbconvert_exporter": "python",
   "pygments_lexer": "ipython3",
   "version": "3.9.12"
  }
 },
 "nbformat": 4,
 "nbformat_minor": 5
}
